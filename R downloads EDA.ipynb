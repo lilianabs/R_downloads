{
 "cells": [
  {
   "cell_type": "markdown",
   "metadata": {},
   "source": [
    "In this notebook, we do a quick exploration of a dataset from the [TidyTuesday event](https://github.com/rfordatascience/tidytuesday). In this event they post a new dataset every Tuesday for the R4DS Online Learning Community. They release quite interesting datasets which are useful for learning R (and even Python).\n",
    "\n",
    "We use the yearly dataset [Week 31 - R and Package download stats](https://github.com/rfordatascience/tidytuesday/tree/master/data/2018/2018-10-30) which contains anonymized R language downloads from the RStudio CRAN mirror between October 20, 2017 and October 20, 2018. It consists on the following variables:\n",
    "\n",
    "* **date**: date of download (y-m-d).\n",
    "* **time**: time of download (in UTC).\n",
    "* **size**: size (in bytes).\n",
    "* **version**: R release version.\n",
    "* **os**: Operating System.\n",
    "* **country**: Two letter ISO country code.\n",
    "* **ip_id**: Anonymized daily ip code (unique identifier).\n",
    "\n"
   ]
  },
  {
   "cell_type": "code",
   "execution_count": 1,
   "metadata": {},
   "outputs": [],
   "source": [
    "# Import modules\n",
    "import pandas as pd\n",
    "import matplotlib.pyplot as plt\n",
    "import numpy as np\n",
    "import seaborn as sns\n",
    "\n",
    "plt.style.use('fivethirtyeight')\n",
    "\n",
    "# Figures inline and set visualization style\n",
    "%matplotlib inline"
   ]
  },
  {
   "cell_type": "markdown",
   "metadata": {},
   "source": [
    "Downlod the data from [Week 31 - R and Package download stats](https://github.com/rfordatascience/tidytuesday/tree/master/data/2018/2018-10-30) and save it to a folder called *data*."
   ]
  },
  {
   "cell_type": "code",
   "execution_count": 2,
   "metadata": {},
   "outputs": [],
   "source": [
    "df = pd.read_csv(\"data/r_downloads_year.csv\")"
   ]
  },
  {
   "cell_type": "code",
   "execution_count": 3,
   "metadata": {},
   "outputs": [
    {
     "data": {
      "text/plain": [
       "(938115, 8)"
      ]
     },
     "execution_count": 3,
     "metadata": {},
     "output_type": "execute_result"
    }
   ],
   "source": [
    "#Check shape of the data\n",
    "df.shape"
   ]
  },
  {
   "cell_type": "markdown",
   "metadata": {},
   "source": [
    "## Data cleaning\n",
    "\n",
    "It looks like we have an extra variable, it might be some integer Id."
   ]
  },
  {
   "cell_type": "code",
   "execution_count": 4,
   "metadata": {},
   "outputs": [
    {
     "data": {
      "text/html": [
       "<div>\n",
       "<style scoped>\n",
       "    .dataframe tbody tr th:only-of-type {\n",
       "        vertical-align: middle;\n",
       "    }\n",
       "\n",
       "    .dataframe tbody tr th {\n",
       "        vertical-align: top;\n",
       "    }\n",
       "\n",
       "    .dataframe thead th {\n",
       "        text-align: right;\n",
       "    }\n",
       "</style>\n",
       "<table border=\"1\" class=\"dataframe\">\n",
       "  <thead>\n",
       "    <tr style=\"text-align: right;\">\n",
       "      <th></th>\n",
       "      <th>Unnamed: 0</th>\n",
       "      <th>date</th>\n",
       "      <th>time</th>\n",
       "      <th>size</th>\n",
       "      <th>version</th>\n",
       "      <th>os</th>\n",
       "      <th>country</th>\n",
       "      <th>ip_id</th>\n",
       "    </tr>\n",
       "  </thead>\n",
       "  <tbody>\n",
       "    <tr>\n",
       "      <th>0</th>\n",
       "      <td>1</td>\n",
       "      <td>2017-10-23</td>\n",
       "      <td>14:29:18</td>\n",
       "      <td>78171332</td>\n",
       "      <td>3.4.2</td>\n",
       "      <td>win</td>\n",
       "      <td>ES</td>\n",
       "      <td>1</td>\n",
       "    </tr>\n",
       "    <tr>\n",
       "      <th>1</th>\n",
       "      <td>2</td>\n",
       "      <td>2017-10-23</td>\n",
       "      <td>14:29:22</td>\n",
       "      <td>20692638</td>\n",
       "      <td>3.4.2</td>\n",
       "      <td>win</td>\n",
       "      <td>PT</td>\n",
       "      <td>2</td>\n",
       "    </tr>\n",
       "    <tr>\n",
       "      <th>2</th>\n",
       "      <td>3</td>\n",
       "      <td>2017-10-23</td>\n",
       "      <td>14:29:57</td>\n",
       "      <td>972075</td>\n",
       "      <td>3.4.2</td>\n",
       "      <td>win</td>\n",
       "      <td>PL</td>\n",
       "      <td>3</td>\n",
       "    </tr>\n",
       "    <tr>\n",
       "      <th>3</th>\n",
       "      <td>4</td>\n",
       "      <td>2017-10-23</td>\n",
       "      <td>14:30:00</td>\n",
       "      <td>1032203</td>\n",
       "      <td>3.0.3</td>\n",
       "      <td>win</td>\n",
       "      <td>JP</td>\n",
       "      <td>4</td>\n",
       "    </tr>\n",
       "    <tr>\n",
       "      <th>4</th>\n",
       "      <td>5</td>\n",
       "      <td>2017-10-23</td>\n",
       "      <td>14:30:18</td>\n",
       "      <td>78171332</td>\n",
       "      <td>3.4.2</td>\n",
       "      <td>win</td>\n",
       "      <td>CN</td>\n",
       "      <td>5</td>\n",
       "    </tr>\n",
       "  </tbody>\n",
       "</table>\n",
       "</div>"
      ],
      "text/plain": [
       "   Unnamed: 0        date      time      size version   os country  ip_id\n",
       "0           1  2017-10-23  14:29:18  78171332   3.4.2  win      ES      1\n",
       "1           2  2017-10-23  14:29:22  20692638   3.4.2  win      PT      2\n",
       "2           3  2017-10-23  14:29:57    972075   3.4.2  win      PL      3\n",
       "3           4  2017-10-23  14:30:00   1032203   3.0.3  win      JP      4\n",
       "4           5  2017-10-23  14:30:18  78171332   3.4.2  win      CN      5"
      ]
     },
     "execution_count": 4,
     "metadata": {},
     "output_type": "execute_result"
    }
   ],
   "source": [
    "df.head()"
   ]
  },
  {
   "cell_type": "markdown",
   "metadata": {},
   "source": [
    "We remove the first column since it is an integer Id as well as ip_id (anonymized daily ip code)."
   ]
  },
  {
   "cell_type": "code",
   "execution_count": 5,
   "metadata": {},
   "outputs": [
    {
     "name": "stdout",
     "output_type": "stream",
     "text": [
      "<class 'pandas.core.frame.DataFrame'>\n",
      "RangeIndex: 938115 entries, 0 to 938114\n",
      "Data columns (total 8 columns):\n",
      "Unnamed: 0    938115 non-null int64\n",
      "date          938115 non-null object\n",
      "time          938115 non-null object\n",
      "size          938115 non-null int64\n",
      "version       938115 non-null object\n",
      "os            935517 non-null object\n",
      "country       915601 non-null object\n",
      "ip_id         938115 non-null int64\n",
      "dtypes: int64(3), object(5)\n",
      "memory usage: 57.3+ MB\n"
     ]
    }
   ],
   "source": [
    "df.info()"
   ]
  },
  {
   "cell_type": "code",
   "execution_count": 6,
   "metadata": {},
   "outputs": [],
   "source": [
    "df.drop(['Unnamed: 0', 'ip_id'], axis = 1, inplace = True)"
   ]
  },
  {
   "cell_type": "code",
   "execution_count": 7,
   "metadata": {},
   "outputs": [
    {
     "data": {
      "text/html": [
       "<div>\n",
       "<style scoped>\n",
       "    .dataframe tbody tr th:only-of-type {\n",
       "        vertical-align: middle;\n",
       "    }\n",
       "\n",
       "    .dataframe tbody tr th {\n",
       "        vertical-align: top;\n",
       "    }\n",
       "\n",
       "    .dataframe thead th {\n",
       "        text-align: right;\n",
       "    }\n",
       "</style>\n",
       "<table border=\"1\" class=\"dataframe\">\n",
       "  <thead>\n",
       "    <tr style=\"text-align: right;\">\n",
       "      <th></th>\n",
       "      <th>date</th>\n",
       "      <th>time</th>\n",
       "      <th>size</th>\n",
       "      <th>version</th>\n",
       "      <th>os</th>\n",
       "      <th>country</th>\n",
       "    </tr>\n",
       "  </thead>\n",
       "  <tbody>\n",
       "    <tr>\n",
       "      <th>0</th>\n",
       "      <td>2017-10-23</td>\n",
       "      <td>14:29:18</td>\n",
       "      <td>78171332</td>\n",
       "      <td>3.4.2</td>\n",
       "      <td>win</td>\n",
       "      <td>ES</td>\n",
       "    </tr>\n",
       "    <tr>\n",
       "      <th>1</th>\n",
       "      <td>2017-10-23</td>\n",
       "      <td>14:29:22</td>\n",
       "      <td>20692638</td>\n",
       "      <td>3.4.2</td>\n",
       "      <td>win</td>\n",
       "      <td>PT</td>\n",
       "    </tr>\n",
       "    <tr>\n",
       "      <th>2</th>\n",
       "      <td>2017-10-23</td>\n",
       "      <td>14:29:57</td>\n",
       "      <td>972075</td>\n",
       "      <td>3.4.2</td>\n",
       "      <td>win</td>\n",
       "      <td>PL</td>\n",
       "    </tr>\n",
       "    <tr>\n",
       "      <th>3</th>\n",
       "      <td>2017-10-23</td>\n",
       "      <td>14:30:00</td>\n",
       "      <td>1032203</td>\n",
       "      <td>3.0.3</td>\n",
       "      <td>win</td>\n",
       "      <td>JP</td>\n",
       "    </tr>\n",
       "    <tr>\n",
       "      <th>4</th>\n",
       "      <td>2017-10-23</td>\n",
       "      <td>14:30:18</td>\n",
       "      <td>78171332</td>\n",
       "      <td>3.4.2</td>\n",
       "      <td>win</td>\n",
       "      <td>CN</td>\n",
       "    </tr>\n",
       "  </tbody>\n",
       "</table>\n",
       "</div>"
      ],
      "text/plain": [
       "         date      time      size version   os country\n",
       "0  2017-10-23  14:29:18  78171332   3.4.2  win      ES\n",
       "1  2017-10-23  14:29:22  20692638   3.4.2  win      PT\n",
       "2  2017-10-23  14:29:57    972075   3.4.2  win      PL\n",
       "3  2017-10-23  14:30:00   1032203   3.0.3  win      JP\n",
       "4  2017-10-23  14:30:18  78171332   3.4.2  win      CN"
      ]
     },
     "execution_count": 7,
     "metadata": {},
     "output_type": "execute_result"
    }
   ],
   "source": [
    "df.head()"
   ]
  },
  {
   "cell_type": "markdown",
   "metadata": {},
   "source": [
    "Notice that we have separate columns for date and time. It is more usefull to we have a column that contains both the date and time R was downloaded.\n",
    "\n",
    "We combine date and time into date_time and transform it to pandas datetime."
   ]
  },
  {
   "cell_type": "code",
   "execution_count": 8,
   "metadata": {},
   "outputs": [],
   "source": [
    "df['date_time'] = df.date.str.cat(df.time, sep = ' ')\n",
    "df['date_time'] = pd.to_datetime(df['date_time'])"
   ]
  },
  {
   "cell_type": "code",
   "execution_count": 9,
   "metadata": {},
   "outputs": [
    {
     "data": {
      "text/html": [
       "<div>\n",
       "<style scoped>\n",
       "    .dataframe tbody tr th:only-of-type {\n",
       "        vertical-align: middle;\n",
       "    }\n",
       "\n",
       "    .dataframe tbody tr th {\n",
       "        vertical-align: top;\n",
       "    }\n",
       "\n",
       "    .dataframe thead th {\n",
       "        text-align: right;\n",
       "    }\n",
       "</style>\n",
       "<table border=\"1\" class=\"dataframe\">\n",
       "  <thead>\n",
       "    <tr style=\"text-align: right;\">\n",
       "      <th></th>\n",
       "      <th>date</th>\n",
       "      <th>time</th>\n",
       "      <th>size</th>\n",
       "      <th>version</th>\n",
       "      <th>os</th>\n",
       "      <th>country</th>\n",
       "      <th>date_time</th>\n",
       "    </tr>\n",
       "  </thead>\n",
       "  <tbody>\n",
       "    <tr>\n",
       "      <th>0</th>\n",
       "      <td>2017-10-23</td>\n",
       "      <td>14:29:18</td>\n",
       "      <td>78171332</td>\n",
       "      <td>3.4.2</td>\n",
       "      <td>win</td>\n",
       "      <td>ES</td>\n",
       "      <td>2017-10-23 14:29:18</td>\n",
       "    </tr>\n",
       "    <tr>\n",
       "      <th>1</th>\n",
       "      <td>2017-10-23</td>\n",
       "      <td>14:29:22</td>\n",
       "      <td>20692638</td>\n",
       "      <td>3.4.2</td>\n",
       "      <td>win</td>\n",
       "      <td>PT</td>\n",
       "      <td>2017-10-23 14:29:22</td>\n",
       "    </tr>\n",
       "    <tr>\n",
       "      <th>2</th>\n",
       "      <td>2017-10-23</td>\n",
       "      <td>14:29:57</td>\n",
       "      <td>972075</td>\n",
       "      <td>3.4.2</td>\n",
       "      <td>win</td>\n",
       "      <td>PL</td>\n",
       "      <td>2017-10-23 14:29:57</td>\n",
       "    </tr>\n",
       "    <tr>\n",
       "      <th>3</th>\n",
       "      <td>2017-10-23</td>\n",
       "      <td>14:30:00</td>\n",
       "      <td>1032203</td>\n",
       "      <td>3.0.3</td>\n",
       "      <td>win</td>\n",
       "      <td>JP</td>\n",
       "      <td>2017-10-23 14:30:00</td>\n",
       "    </tr>\n",
       "    <tr>\n",
       "      <th>4</th>\n",
       "      <td>2017-10-23</td>\n",
       "      <td>14:30:18</td>\n",
       "      <td>78171332</td>\n",
       "      <td>3.4.2</td>\n",
       "      <td>win</td>\n",
       "      <td>CN</td>\n",
       "      <td>2017-10-23 14:30:18</td>\n",
       "    </tr>\n",
       "  </tbody>\n",
       "</table>\n",
       "</div>"
      ],
      "text/plain": [
       "         date      time      size version   os country           date_time\n",
       "0  2017-10-23  14:29:18  78171332   3.4.2  win      ES 2017-10-23 14:29:18\n",
       "1  2017-10-23  14:29:22  20692638   3.4.2  win      PT 2017-10-23 14:29:22\n",
       "2  2017-10-23  14:29:57    972075   3.4.2  win      PL 2017-10-23 14:29:57\n",
       "3  2017-10-23  14:30:00   1032203   3.0.3  win      JP 2017-10-23 14:30:00\n",
       "4  2017-10-23  14:30:18  78171332   3.4.2  win      CN 2017-10-23 14:30:18"
      ]
     },
     "execution_count": 9,
     "metadata": {},
     "output_type": "execute_result"
    }
   ],
   "source": [
    "df.head()"
   ]
  },
  {
   "cell_type": "markdown",
   "metadata": {},
   "source": [
    "## Operative systems\n",
    "\n",
    "We plot this variable to see its distribution."
   ]
  },
  {
   "cell_type": "code",
   "execution_count": 10,
   "metadata": {},
   "outputs": [
    {
     "data": {
      "image/png": "[encoded data removed]",
      "text/plain": [
       "<Figure size 432x288 with 1 Axes>"
      ]
     },
     "metadata": {
      "needs_background": "light"
     },
     "output_type": "display_data"
    }
   ],
   "source": [
    "df['os'].value_counts().plot(kind = 'bar');"
   ]
  },
  {
   "cell_type": "markdown",
   "metadata": {},
   "source": [
    "We can tell that Windows is used by a large proportion of R users. OS X is in second place whereas open source operating systems (src) are used by few R users.\n",
    "\n",
    "## Country\n",
    "\n",
    "From which countries are R Users? We select the top 20 countries."
   ]
  },
  {
   "cell_type": "code",
   "execution_count": 11,
   "metadata": {},
   "outputs": [
    {
     "data": {
      "image/png": "[encoded data removed]",
      "text/plain": [
       "<Figure size 432x288 with 1 Axes>"
      ]
     },
     "metadata": {
      "needs_background": "light"
     },
     "output_type": "display_data"
    }
   ],
   "source": [
    "df['country'].value_counts()[:20].plot(kind = 'bar');"
   ]
  },
  {
   "cell_type": "markdown",
   "metadata": {},
   "source": [
    "Most of the downloads come from the US, which might be due to the population size. \n",
    "\n",
    "## Which operative systems are used in the different countries? \n",
    "\n",
    "To answer this question, we select the top 20 countries and compute a cross table that accounts the different operative systems."
   ]
  },
  {
   "cell_type": "code",
   "execution_count": 12,
   "metadata": {},
   "outputs": [
    {
     "data": {
      "image/png": "[encoded data removed]",
      "text/plain": [
       "<Figure size 432x288 with 1 Axes>"
      ]
     },
     "metadata": {
      "needs_background": "light"
     },
     "output_type": "display_data"
    }
   ],
   "source": [
    "#Get a list of the top 20 countries\n",
    "top_20 = df['country'].value_counts()[:20].index.tolist()\n",
    "\n",
    "#Select the top 20 countries from the dataset\n",
    "top_20_data = df[df.country.isin(top_20)]\n",
    "\n",
    "#Compute top_20_data crosstable (country, os) and plot it\n",
    "top_20_country_os = pd.crosstab(top_20_data['country'], top_20_data['os'])\n",
    "\n",
    "top_20_country_os.plot(kind='bar', stacked=True, color=['red','blue','green'], grid=False,alpha=0.5);"
   ]
  },
  {
   "cell_type": "markdown",
   "metadata": {},
   "source": [
    "We see a similar trend in the U.S. as the overall one. \n",
    "\n",
    "Since a large proportion of data comes from the U.S., the plot doesn't show the rest of the countries with enough detail. We remove this country from the plot."
   ]
  },
  {
   "cell_type": "code",
   "execution_count": 13,
   "metadata": {},
   "outputs": [
    {
     "data": {
      "image/png": "[encoded data removed]",
      "text/plain": [
       "<Figure size 432x288 with 1 Axes>"
      ]
     },
     "metadata": {
      "needs_background": "light"
     },
     "output_type": "display_data"
    }
   ],
   "source": [
    "top_2_20 = df['country'].value_counts()[1:20].index.tolist()\n",
    "\n",
    "#Select the top 20 countries from the dataset\n",
    "top_2_20_data = df[df.country.isin(top_2_20)]\n",
    "\n",
    "#Compute top_20_data crosstable (country, os) and plot it\n",
    "top_2_20_country_os = pd.crosstab(top_2_20_data['country'], top_2_20_data['os'])\n",
    "\n",
    "top_2_20_country_os.plot(kind='bar', stacked=True, color=['red','blue','green'], grid=False,alpha=0.5);"
   ]
  },
  {
   "cell_type": "markdown",
   "metadata": {},
   "source": [
    "There are a few contries in which open source operative system are not very popular such as CO (Colombia), MX (México) and TW (Taiwan).  This is a interesting point that might be worth keeping an eye on.\n",
    "\n",
    "## Version\n",
    "\n",
    "What is the distribution of version?"
   ]
  },
  {
   "cell_type": "code",
   "execution_count": 14,
   "metadata": {},
   "outputs": [
    {
     "data": {
      "text/plain": [
       "3.5.1           284668\n",
       "3.4.3           235119\n",
       "3.5.0           136961\n",
       "3.4.4           100787\n",
       "3.4.2            96090\n",
       "3.3.3            24727\n",
       "latest           19000\n",
       "3.5.1patched     11781\n",
       "3.4.1             3932\n",
       "devel             3418\n",
       "3.2.1             3122\n",
       "3.2.4             2630\n",
       "3.4.0             2560\n",
       "3.2.2             1458\n",
       "3.3.2             1159\n",
       "3.0.3              936\n",
       "3.2.5              856\n",
       "3.3.0              783\n",
       "3.1.2              742\n",
       "3.2.3              688\n",
       "3.3.1              539\n",
       "3.1.3              538\n",
       "3.2.0              398\n",
       "3.1.0              375\n",
       "3.0.1              364\n",
       "3.1.1              325\n",
       "2.15.1             314\n",
       "2.15.3             285\n",
       "3.0.0              285\n",
       "2.11.0             277\n",
       "                 ...  \n",
       "3.4.4patched        24\n",
       "2.9.0               23\n",
       "2.3.0               20\n",
       "2.9.2               20\n",
       "2.2.0               20\n",
       "2.7.0               19\n",
       "2.8.1               18\n",
       "2.5.1               18\n",
       "2.6.0               18\n",
       "2.5.0               18\n",
       "2.3.1               17\n",
       "2.9.1               17\n",
       "2.7.1               16\n",
       "2.2.1               16\n",
       "2.1.0               16\n",
       "2.6.2               16\n",
       "2.7.2               15\n",
       "2.4.0               15\n",
       "2.8.0               15\n",
       "2.0.1               15\n",
       "2.1.1               13\n",
       "2.6.1               12\n",
       "3.5.0rc             12\n",
       "3.4.4rc             11\n",
       "3.5.0alpha          11\n",
       "3.5.0beta            8\n",
       "3.4.3rc              6\n",
       "3.4.3beta            4\n",
       "3.5.1rc              2\n",
       "3.4.1patched         1\n",
       "Name: version, Length: 81, dtype: int64"
      ]
     },
     "execution_count": 14,
     "metadata": {},
     "output_type": "execute_result"
    }
   ],
   "source": [
    "df['version'].value_counts()"
   ]
  },
  {
   "cell_type": "markdown",
   "metadata": {},
   "source": [
    "Different versions are released throughout a software development process. This versioning system contains different types such as patched, latest, devel, alpha and beta. The dataset contains more information about newest versions (perhaps the ones released during Oct 2017 to Oct 2018?). We plot the top 10 versions."
   ]
  },
  {
   "cell_type": "code",
   "execution_count": 15,
   "metadata": {},
   "outputs": [
    {
     "data": {
      "image/png": "[encoded data removed]",
      "text/plain": [
       "<Figure size 432x288 with 1 Axes>"
      ]
     },
     "metadata": {
      "needs_background": "light"
     },
     "output_type": "display_data"
    }
   ],
   "source": [
    "df['version'].value_counts()[:10].plot(kind = 'bar');"
   ]
  },
  {
   "cell_type": "markdown",
   "metadata": {},
   "source": [
    "It is likely that version 3.5.1 is the latest since it was the most downloaded during this period of time.\n",
    "\n",
    "## Time series\n",
    "\n",
    "A first question to ask is how many downloads do we have per year, month, day and time of the day? There might be some periods during the year that R is downloaded the most.\n",
    "\n",
    "### Downloads per year\n",
    "\n",
    "The  more information we can extract from a datetime variable the better. We may discover some intersting hidden information. We add year as a variable so we can make a bar plot."
   ]
  },
  {
   "cell_type": "code",
   "execution_count": 16,
   "metadata": {},
   "outputs": [],
   "source": [
    "df['year'] = df.date_time.dt.year"
   ]
  },
  {
   "cell_type": "code",
   "execution_count": 17,
   "metadata": {},
   "outputs": [
    {
     "data": {
      "image/png": "[encoded data removed]",
      "text/plain": [
       "<Figure size 432x288 with 1 Axes>"
      ]
     },
     "metadata": {
      "needs_background": "light"
     },
     "output_type": "display_data"
    }
   ],
   "source": [
    "df['year'].value_counts().plot(kind = 'bar');"
   ]
  },
  {
   "cell_type": "markdown",
   "metadata": {},
   "source": [
    "The majority of the downloads were made in 2018. The reason is that we only have data from Oct - Dec 2017. \n",
    "\n",
    "Do we have a similar pattern in a particular period of time for both 2017 and 2018? Let's look at October."
   ]
  },
  {
   "cell_type": "code",
   "execution_count": 18,
   "metadata": {},
   "outputs": [
    {
     "data": {
      "text/plain": [
       "10    128213\n",
       "9     120909\n",
       "1      84320\n",
       "3      83052\n",
       "4      78522\n",
       "5      69473\n",
       "2      68940\n",
       "11     67353\n",
       "8      64574\n",
       "12     59948\n",
       "7      59545\n",
       "6      53266\n",
       "Name: month, dtype: int64"
      ]
     },
     "execution_count": 18,
     "metadata": {},
     "output_type": "execute_result"
    }
   ],
   "source": [
    "#Add month as a variable\n",
    "df['month'] = df.date_time.dt.month\n",
    "\n",
    "#Check new variable\n",
    "df.month.value_counts()"
   ]
  },
  {
   "cell_type": "code",
   "execution_count": 19,
   "metadata": {},
   "outputs": [
    {
     "data": {
      "image/png": "[encoded data removed]",
      "text/plain": [
       "<Figure size 432x288 with 1 Axes>"
      ]
     },
     "metadata": {
      "needs_background": "light"
     },
     "output_type": "display_data"
    }
   ],
   "source": [
    "#Select October \n",
    "period_oct = df[df.month.isin([10])]\n",
    "\n",
    "period_oct['year'].value_counts().plot(kind = 'bar');"
   ]
  },
  {
   "cell_type": "markdown",
   "metadata": {},
   "source": [
    "The plot above shows that we have more downloads in October 2018 than Octuber 2017. Do we have complete data both October 2017 and October 2018? "
   ]
  },
  {
   "cell_type": "code",
   "execution_count": 20,
   "metadata": {},
   "outputs": [],
   "source": [
    "df['day'] = df.date_time.dt.day"
   ]
  },
  {
   "cell_type": "code",
   "execution_count": 21,
   "metadata": {},
   "outputs": [
    {
     "data": {
      "text/html": [
       "<div>\n",
       "<style scoped>\n",
       "    .dataframe tbody tr th:only-of-type {\n",
       "        vertical-align: middle;\n",
       "    }\n",
       "\n",
       "    .dataframe tbody tr th {\n",
       "        vertical-align: top;\n",
       "    }\n",
       "\n",
       "    .dataframe thead th {\n",
       "        text-align: right;\n",
       "    }\n",
       "</style>\n",
       "<table border=\"1\" class=\"dataframe\">\n",
       "  <thead>\n",
       "    <tr style=\"text-align: right;\">\n",
       "      <th>year</th>\n",
       "      <th>2017</th>\n",
       "      <th>2018</th>\n",
       "    </tr>\n",
       "    <tr>\n",
       "      <th>day</th>\n",
       "      <th></th>\n",
       "      <th></th>\n",
       "    </tr>\n",
       "  </thead>\n",
       "  <tbody>\n",
       "    <tr>\n",
       "      <th>1</th>\n",
       "      <td>0</td>\n",
       "      <td>6131</td>\n",
       "    </tr>\n",
       "    <tr>\n",
       "      <th>2</th>\n",
       "      <td>0</td>\n",
       "      <td>6285</td>\n",
       "    </tr>\n",
       "    <tr>\n",
       "      <th>3</th>\n",
       "      <td>0</td>\n",
       "      <td>6084</td>\n",
       "    </tr>\n",
       "    <tr>\n",
       "      <th>4</th>\n",
       "      <td>0</td>\n",
       "      <td>5721</td>\n",
       "    </tr>\n",
       "    <tr>\n",
       "      <th>5</th>\n",
       "      <td>0</td>\n",
       "      <td>4815</td>\n",
       "    </tr>\n",
       "    <tr>\n",
       "      <th>6</th>\n",
       "      <td>0</td>\n",
       "      <td>2938</td>\n",
       "    </tr>\n",
       "    <tr>\n",
       "      <th>7</th>\n",
       "      <td>0</td>\n",
       "      <td>3132</td>\n",
       "    </tr>\n",
       "    <tr>\n",
       "      <th>8</th>\n",
       "      <td>0</td>\n",
       "      <td>5437</td>\n",
       "    </tr>\n",
       "    <tr>\n",
       "      <th>9</th>\n",
       "      <td>0</td>\n",
       "      <td>5777</td>\n",
       "    </tr>\n",
       "    <tr>\n",
       "      <th>10</th>\n",
       "      <td>0</td>\n",
       "      <td>5533</td>\n",
       "    </tr>\n",
       "    <tr>\n",
       "      <th>11</th>\n",
       "      <td>0</td>\n",
       "      <td>5530</td>\n",
       "    </tr>\n",
       "    <tr>\n",
       "      <th>12</th>\n",
       "      <td>0</td>\n",
       "      <td>4398</td>\n",
       "    </tr>\n",
       "    <tr>\n",
       "      <th>13</th>\n",
       "      <td>0</td>\n",
       "      <td>2682</td>\n",
       "    </tr>\n",
       "    <tr>\n",
       "      <th>14</th>\n",
       "      <td>0</td>\n",
       "      <td>2824</td>\n",
       "    </tr>\n",
       "    <tr>\n",
       "      <th>15</th>\n",
       "      <td>0</td>\n",
       "      <td>5572</td>\n",
       "    </tr>\n",
       "    <tr>\n",
       "      <th>16</th>\n",
       "      <td>0</td>\n",
       "      <td>5908</td>\n",
       "    </tr>\n",
       "    <tr>\n",
       "      <th>17</th>\n",
       "      <td>0</td>\n",
       "      <td>5575</td>\n",
       "    </tr>\n",
       "    <tr>\n",
       "      <th>18</th>\n",
       "      <td>0</td>\n",
       "      <td>5387</td>\n",
       "    </tr>\n",
       "    <tr>\n",
       "      <th>19</th>\n",
       "      <td>0</td>\n",
       "      <td>4918</td>\n",
       "    </tr>\n",
       "    <tr>\n",
       "      <th>20</th>\n",
       "      <td>2703</td>\n",
       "      <td>3069</td>\n",
       "    </tr>\n",
       "    <tr>\n",
       "      <th>21</th>\n",
       "      <td>1629</td>\n",
       "      <td>0</td>\n",
       "    </tr>\n",
       "    <tr>\n",
       "      <th>22</th>\n",
       "      <td>1808</td>\n",
       "      <td>0</td>\n",
       "    </tr>\n",
       "    <tr>\n",
       "      <th>23</th>\n",
       "      <td>3341</td>\n",
       "      <td>0</td>\n",
       "    </tr>\n",
       "    <tr>\n",
       "      <th>24</th>\n",
       "      <td>3257</td>\n",
       "      <td>0</td>\n",
       "    </tr>\n",
       "    <tr>\n",
       "      <th>25</th>\n",
       "      <td>3179</td>\n",
       "      <td>0</td>\n",
       "    </tr>\n",
       "    <tr>\n",
       "      <th>26</th>\n",
       "      <td>3110</td>\n",
       "      <td>0</td>\n",
       "    </tr>\n",
       "    <tr>\n",
       "      <th>27</th>\n",
       "      <td>2724</td>\n",
       "      <td>0</td>\n",
       "    </tr>\n",
       "    <tr>\n",
       "      <th>28</th>\n",
       "      <td>1562</td>\n",
       "      <td>0</td>\n",
       "    </tr>\n",
       "    <tr>\n",
       "      <th>29</th>\n",
       "      <td>1694</td>\n",
       "      <td>0</td>\n",
       "    </tr>\n",
       "    <tr>\n",
       "      <th>30</th>\n",
       "      <td>2794</td>\n",
       "      <td>0</td>\n",
       "    </tr>\n",
       "    <tr>\n",
       "      <th>31</th>\n",
       "      <td>2696</td>\n",
       "      <td>0</td>\n",
       "    </tr>\n",
       "  </tbody>\n",
       "</table>\n",
       "</div>"
      ],
      "text/plain": [
       "year  2017  2018\n",
       "day             \n",
       "1        0  6131\n",
       "2        0  6285\n",
       "3        0  6084\n",
       "4        0  5721\n",
       "5        0  4815\n",
       "6        0  2938\n",
       "7        0  3132\n",
       "8        0  5437\n",
       "9        0  5777\n",
       "10       0  5533\n",
       "11       0  5530\n",
       "12       0  4398\n",
       "13       0  2682\n",
       "14       0  2824\n",
       "15       0  5572\n",
       "16       0  5908\n",
       "17       0  5575\n",
       "18       0  5387\n",
       "19       0  4918\n",
       "20    2703  3069\n",
       "21    1629     0\n",
       "22    1808     0\n",
       "23    3341     0\n",
       "24    3257     0\n",
       "25    3179     0\n",
       "26    3110     0\n",
       "27    2724     0\n",
       "28    1562     0\n",
       "29    1694     0\n",
       "30    2794     0\n",
       "31    2696     0"
      ]
     },
     "execution_count": 21,
     "metadata": {},
     "output_type": "execute_result"
    }
   ],
   "source": [
    "period_oct = df[df.month.isin([10])]\n",
    "\n",
    "pd.crosstab(period_oct.day, period_oct.year)"
   ]
  },
  {
   "cell_type": "markdown",
   "metadata": {},
   "source": [
    "As you can see, we only have data for 20th day, this makes it impossible to compare a similar period of time for different year.\n",
    "\n",
    "### Downloads per time of the day"
   ]
  },
  {
   "cell_type": "code",
   "execution_count": 22,
   "metadata": {},
   "outputs": [],
   "source": [
    "df['hour'] = df.date_time.dt.hour"
   ]
  },
  {
   "cell_type": "code",
   "execution_count": 23,
   "metadata": {},
   "outputs": [
    {
     "data": {
      "image/png": "[encoded data removed]",
      "text/plain": [
       "<Figure size 432x288 with 1 Axes>"
      ]
     },
     "metadata": {
      "needs_background": "light"
     },
     "output_type": "display_data"
    }
   ],
   "source": [
    "df['hour'].value_counts().sort_index().plot();"
   ]
  },
  {
   "cell_type": "markdown",
   "metadata": {},
   "source": [
    "Most downloads happen in the afternoon (after lunch time). After 8 pm, the number of downloads start declining. If we were to advice some time for server maintenance, it would be around 4 to 6 am. \n",
    "\n",
    "### Downloads per time of the day and operative system \n",
    "\n",
    "Do people using open source operative systems tend to work late in the evening?"
   ]
  },
  {
   "cell_type": "code",
   "execution_count": 24,
   "metadata": {},
   "outputs": [
    {
     "data": {
      "image/png": "[encoded data removed]",
      "text/plain": [
       "<Figure size 432x288 with 1 Axes>"
      ]
     },
     "metadata": {
      "needs_background": "light"
     },
     "output_type": "display_data"
    }
   ],
   "source": [
    "pd.crosstab(df.hour, df.os).plot();"
   ]
  },
  {
   "cell_type": "markdown",
   "metadata": {},
   "source": [
    "Download patters are very different for each operative system. Open source os users tend to work throughout the day whereas Windows and OS X users prefer to work in the afternoon - evening.\n",
    "\n",
    "From this analysis, we conclude that it might be interesting to have a dashboard to monitor the following metrics:\n",
    "\n",
    "* Total number of downloads.\n",
    "* Proportion of operative systems.\n",
    "* Top 20 countries downloads are from.\n",
    "* Number of downloads per time of the day."
   ]
  },
  {
   "cell_type": "code",
   "execution_count": null,
   "metadata": {},
   "outputs": [],
   "source": []
  }
 ],
 "metadata": {
  "kernelspec": {
   "display_name": "Python 3",
   "language": "python",
   "name": "python3"
  },
  "language_info": {
   "codemirror_mode": {
    "name": "ipython",
    "version": 3
   },
   "file_extension": ".py",
   "mimetype": "text/x-python",
   "name": "python",
   "nbconvert_exporter": "python",
   "pygments_lexer": "ipython3",
   "version": "3.7.2"
  }
 },
 "nbformat": 4,
 "nbformat_minor": 2
}

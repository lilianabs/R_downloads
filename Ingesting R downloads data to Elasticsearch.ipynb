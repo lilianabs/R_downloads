{
 "cells": [
  {
   "cell_type": "markdown",
   "metadata": {},
   "source": [
    "In this notebook we go through the process for storing data in Elasticsearch (this process is called *ingesting*). We use data from the [TidyTuesday event](https://github.com/rfordatascience/tidytuesday). In particular, we picked the yearly dataset [Week 31 - R and Package download stats](https://github.com/rfordatascience/tidytuesday/tree/master/data/2018/2018-10-30) which contains anonymized package and R language downloads from the RStudio CRAN mirror between October 20, 2017 and October 20, 2018. It consists on the following variables:\n",
    "\n",
    "* **date**: date of download (y-m-d).\n",
    "* **time**: time of download (in UTC).\n",
    "* **size**: size (in bytes).\n",
    "* **version**: R release version.\n",
    "* **os**: Operating System.\n",
    "* **country**: Two letter ISO country code.\n",
    "* **ip_id**: Anonymized daily ip code (unique identifier).\n",
    "\n",
    "To *ingest* the dataset to Elasticsearch we need to format or remove some columns and then save it to a *.csv* file. Then we use atom along with package json-converter to export the dataset to a json object (Elasticsearch format). Finally, we use Elasticsearch *bulk API* to ingest the dataset."
   ]
  },
  {
   "cell_type": "code",
   "execution_count": 1,
   "metadata": {},
   "outputs": [],
   "source": [
    "# Import libraries\n",
    "import pandas as pd\n",
    "import json\n",
    "import numpy as np"
   ]
  },
  {
   "cell_type": "code",
   "execution_count": 2,
   "metadata": {},
   "outputs": [],
   "source": [
    "df = pd.read_csv(\"data/r_downloads_year.csv\")"
   ]
  },
  {
   "cell_type": "code",
   "execution_count": 3,
   "metadata": {},
   "outputs": [
    {
     "data": {
      "text/html": [
       "<div>\n",
       "<style scoped>\n",
       "    .dataframe tbody tr th:only-of-type {\n",
       "        vertical-align: middle;\n",
       "    }\n",
       "\n",
       "    .dataframe tbody tr th {\n",
       "        vertical-align: top;\n",
       "    }\n",
       "\n",
       "    .dataframe thead th {\n",
       "        text-align: right;\n",
       "    }\n",
       "</style>\n",
       "<table border=\"1\" class=\"dataframe\">\n",
       "  <thead>\n",
       "    <tr style=\"text-align: right;\">\n",
       "      <th></th>\n",
       "      <th>Unnamed: 0</th>\n",
       "      <th>date</th>\n",
       "      <th>time</th>\n",
       "      <th>size</th>\n",
       "      <th>version</th>\n",
       "      <th>os</th>\n",
       "      <th>country</th>\n",
       "      <th>ip_id</th>\n",
       "    </tr>\n",
       "  </thead>\n",
       "  <tbody>\n",
       "    <tr>\n",
       "      <th>0</th>\n",
       "      <td>1</td>\n",
       "      <td>2017-10-23</td>\n",
       "      <td>14:29:18</td>\n",
       "      <td>78171332</td>\n",
       "      <td>3.4.2</td>\n",
       "      <td>win</td>\n",
       "      <td>ES</td>\n",
       "      <td>1</td>\n",
       "    </tr>\n",
       "    <tr>\n",
       "      <th>1</th>\n",
       "      <td>2</td>\n",
       "      <td>2017-10-23</td>\n",
       "      <td>14:29:22</td>\n",
       "      <td>20692638</td>\n",
       "      <td>3.4.2</td>\n",
       "      <td>win</td>\n",
       "      <td>PT</td>\n",
       "      <td>2</td>\n",
       "    </tr>\n",
       "    <tr>\n",
       "      <th>2</th>\n",
       "      <td>3</td>\n",
       "      <td>2017-10-23</td>\n",
       "      <td>14:29:57</td>\n",
       "      <td>972075</td>\n",
       "      <td>3.4.2</td>\n",
       "      <td>win</td>\n",
       "      <td>PL</td>\n",
       "      <td>3</td>\n",
       "    </tr>\n",
       "    <tr>\n",
       "      <th>3</th>\n",
       "      <td>4</td>\n",
       "      <td>2017-10-23</td>\n",
       "      <td>14:30:00</td>\n",
       "      <td>1032203</td>\n",
       "      <td>3.0.3</td>\n",
       "      <td>win</td>\n",
       "      <td>JP</td>\n",
       "      <td>4</td>\n",
       "    </tr>\n",
       "    <tr>\n",
       "      <th>4</th>\n",
       "      <td>5</td>\n",
       "      <td>2017-10-23</td>\n",
       "      <td>14:30:18</td>\n",
       "      <td>78171332</td>\n",
       "      <td>3.4.2</td>\n",
       "      <td>win</td>\n",
       "      <td>CN</td>\n",
       "      <td>5</td>\n",
       "    </tr>\n",
       "  </tbody>\n",
       "</table>\n",
       "</div>"
      ],
      "text/plain": [
       "   Unnamed: 0        date      time      size version   os country  ip_id\n",
       "0           1  2017-10-23  14:29:18  78171332   3.4.2  win      ES      1\n",
       "1           2  2017-10-23  14:29:22  20692638   3.4.2  win      PT      2\n",
       "2           3  2017-10-23  14:29:57    972075   3.4.2  win      PL      3\n",
       "3           4  2017-10-23  14:30:00   1032203   3.0.3  win      JP      4\n",
       "4           5  2017-10-23  14:30:18  78171332   3.4.2  win      CN      5"
      ]
     },
     "execution_count": 3,
     "metadata": {},
     "output_type": "execute_result"
    }
   ],
   "source": [
    "df.head()"
   ]
  },
  {
   "cell_type": "markdown",
   "metadata": {},
   "source": [
    "## Data cleaning\n",
    "\n",
    "#### date_time\n",
    "One of the datetime formats accepted by Elasticsearch is *yyyy-MM-ddTHH:mm:ssZ*. This format allows us to add a time zone designator (we use Zulu). More information on this format can be found in this [link](https://en.wikipedia.org/wiki/ISO_8601). We reformat date_time column to this format and rename it to *@timestamp*.\n",
    "\n",
    "###  id_ip\n",
    "We rename this column to *id* so we can use it as an identifier in Elasticsearch.\n",
    "\n",
    "### date, time\n",
    "We drop these columns."
   ]
  },
  {
   "cell_type": "code",
   "execution_count": 4,
   "metadata": {},
   "outputs": [],
   "source": [
    "#Create a single column that contains download date and time \n",
    "df['date_time'] = df.date.str.cat(df.time, sep = 'T')\n",
    "df['date_time'] = df.date_time + \".000Z\"\n",
    "\n",
    "#Rename date_time column to @timestamp\n",
    "df.rename(columns={'date_time': '@timestamp', 'ip_id':'id'}, inplace = True)\n",
    "\n",
    "#Drop Id columns\n",
    "df.drop(['Unnamed: 0', 'date', 'time'], axis = 1, inplace = True)"
   ]
  },
  {
   "cell_type": "code",
   "execution_count": 5,
   "metadata": {},
   "outputs": [
    {
     "data": {
      "text/html": [
       "<div>\n",
       "<style scoped>\n",
       "    .dataframe tbody tr th:only-of-type {\n",
       "        vertical-align: middle;\n",
       "    }\n",
       "\n",
       "    .dataframe tbody tr th {\n",
       "        vertical-align: top;\n",
       "    }\n",
       "\n",
       "    .dataframe thead th {\n",
       "        text-align: right;\n",
       "    }\n",
       "</style>\n",
       "<table border=\"1\" class=\"dataframe\">\n",
       "  <thead>\n",
       "    <tr style=\"text-align: right;\">\n",
       "      <th></th>\n",
       "      <th>size</th>\n",
       "      <th>version</th>\n",
       "      <th>os</th>\n",
       "      <th>country</th>\n",
       "      <th>id</th>\n",
       "      <th>@timestamp</th>\n",
       "    </tr>\n",
       "  </thead>\n",
       "  <tbody>\n",
       "    <tr>\n",
       "      <th>0</th>\n",
       "      <td>78171332</td>\n",
       "      <td>3.4.2</td>\n",
       "      <td>win</td>\n",
       "      <td>ES</td>\n",
       "      <td>1</td>\n",
       "      <td>2017-10-23T14:29:18.000Z</td>\n",
       "    </tr>\n",
       "    <tr>\n",
       "      <th>1</th>\n",
       "      <td>20692638</td>\n",
       "      <td>3.4.2</td>\n",
       "      <td>win</td>\n",
       "      <td>PT</td>\n",
       "      <td>2</td>\n",
       "      <td>2017-10-23T14:29:22.000Z</td>\n",
       "    </tr>\n",
       "    <tr>\n",
       "      <th>2</th>\n",
       "      <td>972075</td>\n",
       "      <td>3.4.2</td>\n",
       "      <td>win</td>\n",
       "      <td>PL</td>\n",
       "      <td>3</td>\n",
       "      <td>2017-10-23T14:29:57.000Z</td>\n",
       "    </tr>\n",
       "    <tr>\n",
       "      <th>3</th>\n",
       "      <td>1032203</td>\n",
       "      <td>3.0.3</td>\n",
       "      <td>win</td>\n",
       "      <td>JP</td>\n",
       "      <td>4</td>\n",
       "      <td>2017-10-23T14:30:00.000Z</td>\n",
       "    </tr>\n",
       "    <tr>\n",
       "      <th>4</th>\n",
       "      <td>78171332</td>\n",
       "      <td>3.4.2</td>\n",
       "      <td>win</td>\n",
       "      <td>CN</td>\n",
       "      <td>5</td>\n",
       "      <td>2017-10-23T14:30:18.000Z</td>\n",
       "    </tr>\n",
       "  </tbody>\n",
       "</table>\n",
       "</div>"
      ],
      "text/plain": [
       "       size version   os country  id                @timestamp\n",
       "0  78171332   3.4.2  win      ES   1  2017-10-23T14:29:18.000Z\n",
       "1  20692638   3.4.2  win      PT   2  2017-10-23T14:29:22.000Z\n",
       "2    972075   3.4.2  win      PL   3  2017-10-23T14:29:57.000Z\n",
       "3   1032203   3.0.3  win      JP   4  2017-10-23T14:30:00.000Z\n",
       "4  78171332   3.4.2  win      CN   5  2017-10-23T14:30:18.000Z"
      ]
     },
     "execution_count": 5,
     "metadata": {},
     "output_type": "execute_result"
    }
   ],
   "source": [
    "#Quick look at data\n",
    "df.head()"
   ]
  },
  {
   "cell_type": "markdown",
   "metadata": {},
   "source": [
    "## Ingesting data to Elasticsearch\n",
    "\n",
    "Ideally, we would have *streaming data* coming from different sources in real time. Specially for this example in which downloads happen all the time. We have static data and the process we go through might not be quite useful but is good to get started playing around with Elasticsearch's capabilities. When we get to the point of making a dashboard we'll pretend our data is changing constantly :)\n",
    "\n",
    "In Elasticsearch each record or row is called a *document* and uses *JSON* as the serialisation format. An index contains many documents. To export the dataset to a proper *JSON* format for Elasticsearch we use editor *Atom* along with the plugin *json-converter*. For detailed instructions on how to do this go to this [link]()."
   ]
  },
  {
   "cell_type": "code",
   "execution_count": 7,
   "metadata": {},
   "outputs": [],
   "source": [
    "#Save data to csv\n",
    "df.sample(n=200000).to_csv(\"data/r_downloads_year_cleaned.csv\", index=False)"
   ]
  },
  {
   "cell_type": "markdown",
   "metadata": {},
   "source": [
    "After exporting our csv file to json (using Atom) we ingest our data via *curl* command. Go to this [link]() for more information on this part. \n",
    "\n",
    "**Note:** Another approach is to use *elasticsearch library* for Python."
   ]
  }
 ],
 "metadata": {
  "kernelspec": {
   "display_name": "Python 3",
   "language": "python",
   "name": "python3"
  },
  "language_info": {
   "codemirror_mode": {
    "name": "ipython",
    "version": 3
   },
   "file_extension": ".py",
   "mimetype": "text/x-python",
   "name": "python",
   "nbconvert_exporter": "python",
   "pygments_lexer": "ipython3",
   "version": "3.7.2"
  }
 },
 "nbformat": 4,
 "nbformat_minor": 2
}
